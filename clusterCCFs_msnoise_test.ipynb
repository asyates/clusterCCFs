{
 "cells": [
  {
   "cell_type": "markdown",
   "metadata": {},
   "source": [
    "<h1>Hierarchical clustering of cross-correlation functions </h1>"
   ]
  },
  {
   "cell_type": "markdown",
   "metadata": {},
   "source": [
    "The following notebook demonstrates how to apply hierarchical clustering to cross-correlation functions following Yates et al. (2023, https://doi.org/10.1093/gji/ggac469) using the Scipy cluster package (i.e. https://docs.scipy.org/doc/scipy/reference/generated/scipy.cluster.hierarchy.linkage.html#scipy.cluster.hierarchy.linkage). Notebook uses some functions that are contained within separate script clusterCCFs_msnoise.py. \n",
    "\n",
    "The first part reads in cross-correlation functions output by MSNoise. Alternatively, this part can be re-written as long as input into clustering algorithm consists of a numpy array of CCFs."
   ]
  },
  {
   "cell_type": "markdown",
   "metadata": {},
   "source": [
    "<h3> 1. Read CCFs output my MSNoise </h3>"
   ]
  },
  {
   "cell_type": "markdown",
   "metadata": {},
   "source": [
    "Import relevant packages and functions"
   ]
  },
  {
   "cell_type": "code",
   "execution_count": 1,
   "metadata": {},
   "outputs": [],
   "source": [
    "import os\n",
    "from matplotlib import cm\n",
    "from obspy import Stream, Trace, read\n",
    "from msnoise.api import *\n",
    "from clusterCCFs_msnoise import *\n",
    "import matplotlib.pyplot as plt"
   ]
  },
  {
   "cell_type": "markdown",
   "metadata": {},
   "source": [
    "Define parameters for CCFs that are intended to be clustered (these should correspond to cross-correlation functions already computed in MSNoise, contained within STACKS directory of within user-defined msnoisedir below."
   ]
  },
  {
   "cell_type": "code",
   "execution_count": 2,
   "metadata": {},
   "outputs": [],
   "source": [
    "msnoisedir = '/home/yatesal/msnoise/ruapehu9' #set msnoise directory  #ruapehu8 avant #ruapehu2 = pairs\n",
    "filterid=1 #set filter id\n",
    "mov_stack=10 #set stack size\n",
    "stat1='MTVZ'\n",
    "stat2='MTVZ'\n",
    "pair = 'NZ.'+stat1+'.10:NZ.'+stat2+'.10' #define station pair\n",
    "startdate = '2005-01-01'\n",
    "enddate = '2009-01-01'\n",
    "comp='EZ' #Components to cluster\n",
    "step = 5 #gap in days between CCFs to cluster"
   ]
  },
  {
   "cell_type": "markdown",
   "metadata": {},
   "source": [
    "Read CCFs from MSNoise output file, storing in stream object"
   ]
  },
  {
   "cell_type": "code",
   "execution_count": 3,
   "metadata": {},
   "outputs": [
    {
     "name": "stdout",
     "output_type": "stream",
     "text": [
      "STACKS/01/010_DAYS/EZ/NZ.MTVZ.10_NZ.MTVZ.10/2005-01-01.MSEED missing\n",
      "STACKS/01/010_DAYS/EZ/NZ.MTVZ.10_NZ.MTVZ.10/2005-01-06.MSEED missing\n",
      "STACKS/01/010_DAYS/EZ/NZ.MTVZ.10_NZ.MTVZ.10/2005-01-11.MSEED missing\n",
      "STACKS/01/010_DAYS/EZ/NZ.MTVZ.10_NZ.MTVZ.10/2005-01-16.MSEED missing\n",
      "STACKS/01/010_DAYS/EZ/NZ.MTVZ.10_NZ.MTVZ.10/2005-01-21.MSEED missing\n",
      "STACKS/01/010_DAYS/EZ/NZ.MTVZ.10_NZ.MTVZ.10/2005-01-26.MSEED missing\n",
      "STACKS/01/010_DAYS/EZ/NZ.MTVZ.10_NZ.MTVZ.10/2005-01-31.MSEED missing\n",
      "STACKS/01/010_DAYS/EZ/NZ.MTVZ.10_NZ.MTVZ.10/2005-02-05.MSEED missing\n",
      "STACKS/01/010_DAYS/EZ/NZ.MTVZ.10_NZ.MTVZ.10/2005-02-10.MSEED missing\n",
      "STACKS/01/010_DAYS/EZ/NZ.MTVZ.10_NZ.MTVZ.10/2005-02-15.MSEED missing\n",
      "STACKS/01/010_DAYS/EZ/NZ.MTVZ.10_NZ.MTVZ.10/2005-02-20.MSEED missing\n",
      "STACKS/01/010_DAYS/EZ/NZ.MTVZ.10_NZ.MTVZ.10/2005-02-25.MSEED missing\n",
      "STACKS/01/010_DAYS/EZ/NZ.MTVZ.10_NZ.MTVZ.10/2005-03-02.MSEED missing\n",
      "STACKS/01/010_DAYS/EZ/NZ.MTVZ.10_NZ.MTVZ.10/2005-03-07.MSEED missing\n",
      "STACKS/01/010_DAYS/EZ/NZ.MTVZ.10_NZ.MTVZ.10/2005-03-12.MSEED missing\n",
      "STACKS/01/010_DAYS/EZ/NZ.MTVZ.10_NZ.MTVZ.10/2005-04-01.MSEED missing\n",
      "STACKS/01/010_DAYS/EZ/NZ.MTVZ.10_NZ.MTVZ.10/2005-04-06.MSEED missing\n"
     ]
    }
   ],
   "source": [
    "os.chdir(msnoisedir)\n",
    "db = connect()\n",
    "params = get_params(db)\n",
    "\n",
    "#convert string dates to datetime64\n",
    "startdatedt = np.datetime64(startdate)\n",
    "enddatedt = np.datetime64(enddate)\n",
    "\n",
    "#create array of datetimes between start and enddate, spaced by defined step\n",
    "dates = np.arange(startdatedt, enddatedt, np.timedelta64(step, 'D'))\n",
    "\n",
    "sta1 = pair.split(\":\")[0]\n",
    "sta2 = pair.split(\":\")[1]\n",
    "\n",
    "st = Stream()\n",
    "days = []\n",
    "\n",
    "for i, day in enumerate(dates):\n",
    "\n",
    "    stackpath = \"STACKS/{:02d}/{:03d}_DAYS/{}/{}_{}/{}.MSEED\".format(filterid,mov_stack,comp,sta1,sta2,day)\n",
    "    \n",
    "    if os.path.isfile(stackpath):\n",
    "        st += read(stackpath)\n",
    "        days.append(day)\n",
    "    else:\n",
    "        print(stackpath +' missing')\n"
   ]
  },
  {
   "cell_type": "markdown",
   "metadata": {},
   "source": [
    "Apply further filtering to CCFs or set filter_ccfs to False to continue without filtering. Convert stream object to numpy array."
   ]
  },
  {
   "cell_type": "code",
   "execution_count": 4,
   "metadata": {},
   "outputs": [],
   "source": [
    "filter_ccfs = False\n",
    "freqmin = 0.1\n",
    "freqmax = 1.0\n",
    "\n",
    "st_filt = st.copy()\n",
    "if filter_ccfs == True:\n",
    "    st_filt.filter('bandpass',freqmin=freqmin, freqmax=freqmax, zerophase=True)\n",
    "        \n",
    "ccfs = np.array(st_filt)   #numpy array of CCFs"
   ]
  },
  {
   "cell_type": "markdown",
   "metadata": {},
   "source": [
    "Convert to frequency domain to cluster"
   ]
  },
  {
   "cell_type": "code",
   "execution_count": 5,
   "metadata": {},
   "outputs": [
    {
     "name": "stdout",
     "output_type": "stream",
     "text": [
      "[  0.00000000e+00   4.16597234e-03   8.33194468e-03 ...,   1.24895851e+01\n",
      "   1.24937510e+01   1.24979170e+01]\n",
      "[[  1.20521147e-06   8.12182167e-07   1.77076358e-06 ...,   1.32622966e-06\n",
      "    3.35507345e-06   4.07247845e-06]\n",
      " [  1.98874598e-06   6.18136243e-08   1.14650677e-06 ...,   2.31002585e-06\n",
      "    3.91947094e-06   2.78861164e-06]\n",
      " [  2.58124901e-06   4.48890019e-07   8.55439395e-07 ...,   2.90368499e-06\n",
      "    4.32088786e-06   2.03945881e-06]\n",
      " ..., \n",
      " [  1.31445981e-07   4.13093343e-07   6.49526797e-07 ...,   3.30969867e-06\n",
      "    3.98484781e-06   4.17606579e-06]\n",
      " [  3.34728067e-07   4.30608118e-07   5.03322181e-07 ...,   3.52147444e-06\n",
      "    4.02423764e-06   3.91295984e-06]\n",
      " [  9.84299611e-08   4.37339221e-07   2.68452192e-07 ...,   3.78344409e-06\n",
      "    4.12987332e-06   4.03260183e-06]]\n",
      "276 276 276\n",
      "False\n"
     ]
    }
   ],
   "source": [
    "# Define the frequency range of interest\n",
    "freqmin = 0.1  # in Hz\n",
    "freqmax = 1.0  # in Hz\n",
    "fs=25\n",
    "\n",
    "# Apply the Fourier transform to each cross-correlation function\n",
    "window = signal.tukey(len(ccfs[0]),alpha=0.1)\n",
    "ccfs_taper = np.multiply(ccfs,window)\n",
    "\n",
    "freq_content = np.abs(np.fft.fft(ccfs_taper))\n",
    "\n",
    "# Get the positive frequencies\n",
    "dt = 1.0/fs\n",
    "freqs = np.fft.fftfreq(ccfs.shape[1], dt)\n",
    "pos_freqs = freqs[:ccfs.shape[1]//2 + 1]\n",
    "print(pos_freqs)\n",
    "\n",
    "\n",
    "# Get the indices of the frequency content array that correspond to the frequency range of interest\n",
    "freq_indices = np.where((pos_freqs >= freqmin) & (pos_freqs <= freqmax))\n",
    "\n",
    "# Take only the frequency content within the specified frequency range\n",
    "freq_ccfs = freq_content[:, freq_indices[0]]\n",
    "\n",
    "print(freq_ccfs)\n",
    "print(len(days), len(ccfs), len(freq_ccfs))\n",
    "print(np.isnan(freq_ccfs).any())"
   ]
  },
  {
   "cell_type": "markdown",
   "metadata": {},
   "source": [
    "<h3>2. Compute distance matrix from ccfs</h3>. \n",
    "\n",
    "Define the distance method and run function get_DMatrix() (contained within clusterCCFs_msnoise.py), also defining the lag time of CCFs to cluster.\n",
    "\n",
    "Currently implemented options in this notebook are 'euclid' (euclidean distance), 'cc' (correlation coefficient, or 1- CC for dissimilarity) and 'ccstretch'. This latter choice will stretch all waveforms relative to eachother, and record the maximum correlation coefficient to calculate dissimilarity (1-max(CC)). The intention here is to 'correct' for larger dv/v changes that could influence clustering results (see supplementary of Yates et al., 2023). Note this increases computation time, so for initial run can be better to go with 'cc'.\n",
    "\n",
    "For distmethod = 'ccstretch', the values of stretch tested will then be from -dvv_max to +dvv_max in increments of dvv_step. Increasing dvv_max, or reducing dvv_step, will increase computation time. If not using, can leave as they are."
   ]
  },
  {
   "cell_type": "code",
   "execution_count": 6,
   "metadata": {},
   "outputs": [],
   "source": [
    "distmethod = 'cc' #euclid, cc, ccstretch\n",
    "\n",
    "#for distmethod='ccstretch'\n",
    "dvv_max=0.01 #0.01 = 1%\n",
    "dvv_step=0.0001\n",
    "dvvparams = [dvv_max, dvv_step]\n",
    "\n",
    "minlagwin = 10 #minimum lag\n",
    "maxlagwin = 40 #maximum lag\n",
    "sides = 'both' #B (both, default), P (positive), N (negative)\n",
    "norm=False #normalize CCFs\n",
    "\n",
    "D = get_DMatrix_spectra(freq_ccfs, distmethod, norm=norm)"
   ]
  },
  {
   "cell_type": "markdown",
   "metadata": {},
   "source": [
    "<h3> 3. Perform agglomerative hierarchical clustering </h3>\n",
    "\n",
    "Define the linkage method for clustering (can experiment with these). Used average linkage in Yates et al. as appeared more suitable towards isolating tremor episodes at Piton de la Fournaise (see supplementary)... however ward linkage also nice and can give pretty clean results. \n",
    "\n",
    "The following code will output the dendrogram showing grouping of CCFs at different distance levels. Can be useful to define cut-off threshold in next part of code (in near-future would like to implement dynamic cut-off threshold)."
   ]
  },
  {
   "cell_type": "code",
   "execution_count": 7,
   "metadata": {},
   "outputs": [
    {
     "data": {
      "image/png": "[encoded data removed]",
      "text/plain": [
       "<Figure size 576x576 with 1 Axes>"
      ]
     },
     "metadata": {
      "needs_background": "light"
     },
     "output_type": "display_data"
    }
   ],
   "source": [
    "linkagemethod='average' #single, complete, average, ward\n",
    "\n",
    "fig, ax = plt.subplots(figsize=(8,8))\n",
    "ax.set_ylabel('Distance')\n",
    "\n",
    "H = hierarchy.linkage(squareform(D), method=linkagemethod)\n",
    "dn = hierarchy.dendrogram(H, ax=ax)"
   ]
  },
  {
   "cell_type": "markdown",
   "metadata": {},
   "source": [
    "<h3> 4. Plot position of clusters in time </h3>\n",
    "\n",
    "Define a cut-off threshold, and plot interferogram of CCFs and position in time of clusters for this threshold threshold and the corresponding dendrogram.\n",
    "\n",
    "Note, if a cluster only contains one CCF at the given threshold, there can be some issues with colour scheme (i.e. dendrogram color scheme not matching subplot showing cluster position in time). Plan to fix this later."
   ]
  },
  {
   "cell_type": "code",
   "execution_count": 8,
   "metadata": {},
   "outputs": [
    {
     "ename": "NameError",
     "evalue": "name 'cmap' is not defined",
     "output_type": "error",
     "traceback": [
      "\u001b[0;31m---------------------------------------------------------------------------\u001b[0m",
      "\u001b[0;31mNameError\u001b[0m                                 Traceback (most recent call last)",
      "\u001b[0;32m<ipython-input-8-a422fab837e2>\u001b[0m in \u001b[0;36m<module>\u001b[0;34m\u001b[0m\n\u001b[1;32m     20\u001b[0m \u001b[0;34m\u001b[0m\u001b[0m\n\u001b[1;32m     21\u001b[0m \u001b[0;31m#define new color range\u001b[0m\u001b[0;34m\u001b[0m\u001b[0;34m\u001b[0m\u001b[0;34m\u001b[0m\u001b[0m\n\u001b[0;32m---> 22\u001b[0;31m \u001b[0mnew_color_range\u001b[0m \u001b[0;34m=\u001b[0m \u001b[0mcmap\u001b[0m\u001b[0;34m(\u001b[0m\u001b[0mnp\u001b[0m\u001b[0;34m.\u001b[0m\u001b[0mlinspace\u001b[0m\u001b[0;34m(\u001b[0m\u001b[0;36m0.0\u001b[0m\u001b[0;34m,\u001b[0m \u001b[0;36m1.0\u001b[0m\u001b[0;34m,\u001b[0m \u001b[0mlen\u001b[0m\u001b[0;34m(\u001b[0m\u001b[0mvalid_clusters\u001b[0m\u001b[0;34m)\u001b[0m\u001b[0;34m)\u001b[0m\u001b[0;34m)\u001b[0m\u001b[0;34m\u001b[0m\u001b[0;34m\u001b[0m\u001b[0m\n\u001b[0m\u001b[1;32m     23\u001b[0m \u001b[0;34m\u001b[0m\u001b[0m\n\u001b[1;32m     24\u001b[0m \u001b[0;31m# Grey out colors of clusters with less than min_samples items\u001b[0m\u001b[0;34m\u001b[0m\u001b[0;34m\u001b[0m\u001b[0;34m\u001b[0m\u001b[0m\n",
      "\u001b[0;31mNameError\u001b[0m: name 'cmap' is not defined"
     ]
    },
    {
     "data": {
      "image/png": "[encoded data removed]",
      "text/plain": [
       "<Figure size 864x864 with 3 Axes>"
      ]
     },
     "metadata": {
      "needs_background": "light"
     },
     "output_type": "display_data"
    }
   ],
   "source": [
    "#set static threshold to show location of clusters in time\n",
    "threshold = 0.45\n",
    "min_samples = 10\n",
    "\n",
    "# Plot interferogram, dendrogram and cluster positions\n",
    "\n",
    "fig, ax = plt.subplots(3,1, figsize=(12,12))\n",
    "\n",
    "#plot_interferogram(ccfs, params, days, fig=fig, ax=ax[0], maxlag=60)\n",
    "\n",
    "#get labels corresponding to distance threshold and filter out singleton clusters\n",
    "labels = hierarchy.fcluster(H, threshold, criterion='distance')\n",
    "num_fam = np.max(labels) #no. clusters\n",
    "cmap = plt.get_cmap('rainbow')\n",
    "\n",
    "color_dict = {label: '#808080' for label in np.unique(labels)}\n",
    "\n",
    "# Determine which clusters have less than min_samples items\n",
    "counts = np.bincount(labels, minlength=num_fam+1)[1:]\n",
    "valid_clusters = np.where(counts >= min_samples)[0]\n",
    "\n",
    "#define new color range\n",
    "new_color_range = cmap(np.linspace(0.0, 1.0, len(valid_clusters)))\n",
    "\n",
    "# Grey out colors of clusters with less than min_samples items\n",
    "count = 0\n",
    "\n",
    "new_colors2 = []\n",
    "for i in range(num_fam):\n",
    "    \n",
    "    if counts[i] >= min_samples:\n",
    "        color_dict[i+1] = new_color_range[count]\n",
    "        new_colors2.append(new_color_range[count])\n",
    "        count += 1\n",
    "    else:\n",
    "        if counts[i] > 1:\n",
    "            new_colors2.append((0.5, 0.5, 0.5, 1.0))\n",
    "        else:    \n",
    "            print(i+1 ,'singleton cluster found')\n",
    "\n",
    "        \n",
    "# Generate the color range for the dendrogram\n",
    "color_range = [color_dict[label] for label in np.unique(labels)]        \n",
    "        \n",
    "#plot cluster labels\n",
    "for d in range(len(days)):     \n",
    "    if d == 0:\n",
    "        continue\n",
    "    else:\n",
    "        diff = (days[d]-days[d-1])/np.timedelta64(1,'D')\n",
    "        if int(diff) == step:\n",
    "            ax[1].axvspan(days[d-1], days[d], color=color_range[labels[d]-1], alpha=1.0, lw=0)\n",
    "\n",
    "ax[1].set_yticklabels([])\n",
    "ax[1].set_xlim(np.datetime64(startdate), np.datetime64(enddate))\n",
    "\n",
    "#plot dendrogram\n",
    "hierarchy.set_link_color_palette([cm.colors.rgb2hex(rgb) for rgb in new_colors2])\n",
    "dn = hierarchy.dendrogram(H, color_threshold=threshold, above_threshold_color='black', no_labels=True, ax=ax[2])\n",
    "\n",
    "\n",
    "ax[2].axhline(y=threshold, color='red', linestyle='dashed')\n",
    "ax[2].set_ylabel('Distance')\n"
   ]
  },
  {
   "cell_type": "markdown",
   "metadata": {},
   "source": [
    "<h3> 5. Isolate cluster </h3>\n",
    "\n",
    "The following code can be used to extract cross-correlation functions associated with a given cluster. This can be useful to compare different clusters and perform further processing (e.g. targeting a particular seismic source, or alternative ad-hoc processing of dv/v).\n",
    "\n",
    "The code works by choosing a day, and getting all cross-correlation functions in the same cluster as this day (so useful to use previous plot of cluster position in time). Can be a bit of a pain if the 'step' between CCFs to cluster is not equal to 1 (as CCF does not exist for some days). Will try add cleaner solution later. "
   ]
  },
  {
   "cell_type": "code",
   "execution_count": null,
   "metadata": {},
   "outputs": [],
   "source": [
    "#choose day to get all ccfs in same group\n",
    "day = np.datetime64('2010-12-01')\n",
    "\n",
    "#get days and ccfs corresponding to the chosen day\n",
    "days_cluster, ccfs_cluster = getCluster(day, days, labels, ccfs)\n",
    "\n",
    "#plot mean CCF\n",
    "fig, ax = plt.subplots(figsize=(12,3))\n",
    "\n",
    "#create lag time array using sampling rate and maxlag\n",
    "fs = params.cc_sampling_rate\n",
    "sampint = 1.0/fs\n",
    "maxlag = params.maxlag\n",
    "lagtimes = np.arange(-1*maxlag, maxlag+sampint, sampint)\n",
    "\n",
    "avg_cluster = np.mean(ccfs_cluster, axis=0) #get average ccf\n",
    "\n",
    "ax.plot(lagtimes, avg_cluster)\n",
    "ax.set_xlabel('lag time (s)')\n",
    "ax.set_xlim(-60,60)\n"
   ]
  },
  {
   "cell_type": "markdown",
   "metadata": {},
   "source": [
    "Can also plot interferogram of different CCFs in the cluster (useful to check how similar CCFs within each cluster are). Note that x-axis is basically a count of the CCFs in the cluster at this point, so adjacent CCFs here may not be adjacent in time."
   ]
  },
  {
   "cell_type": "code",
   "execution_count": null,
   "metadata": {},
   "outputs": [],
   "source": [
    "#plot interferogram of cluster\n",
    "fig, ax = plt.subplots(figsize=(12,12))\n",
    "x = np.arange(len(ccfs_cluster)) #plot by index rather than date\n",
    "\n",
    "plot_interferogram(ccfs_cluster, params, x, fig=fig, ax=ax, maxlag=60)\n",
    "ax.set_xlabel('CCF count')"
   ]
  },
  {
   "cell_type": "code",
   "execution_count": null,
   "metadata": {},
   "outputs": [],
   "source": []
  }
 ],
 "metadata": {
  "kernelspec": {
   "display_name": "Python 3",
   "language": "python",
   "name": "python3"
  },
  "language_info": {
   "codemirror_mode": {
    "name": "ipython",
    "version": 3
   },
   "file_extension": ".py",
   "mimetype": "text/x-python",
   "name": "python",
   "nbconvert_exporter": "python",
   "pygments_lexer": "ipython3",
   "version": "3.8.10"
  }
 },
 "nbformat": 4,
 "nbformat_minor": 4
}
