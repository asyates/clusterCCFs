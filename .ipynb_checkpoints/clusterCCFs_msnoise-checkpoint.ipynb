{
 "cells": [
  {
   "cell_type": "code",
   "execution_count": 19,
   "metadata": {},
   "outputs": [],
   "source": [
    "import sys\n",
    "import os\n",
    "from scipy import signal\n",
    "from scipy.cluster import hierarchy\n",
    "from scipy.spatial.distance import squareform \n",
    "from scipy.spatial import distance\n",
    "from sklearn import preprocessing\n",
    "from dtaidistance import dtw\n",
    "from usefulFuncs import *\n",
    "import seaborn as sns\n",
    "from matplotlib.colors import ListedColormap\n",
    "from matplotlib import cm\n",
    "import csv\n",
    "from obspy import Stream, Trace, read\n",
    "from msnoise.api import *"
   ]
  },
  {
   "cell_type": "markdown",
   "metadata": {},
   "source": [
    "Get cross-correlation functions from MSNoise"
   ]
  },
  {
   "cell_type": "code",
   "execution_count": 24,
   "metadata": {},
   "outputs": [],
   "source": [
    "msnoisedir = '/home/yatesal/msnoise/piton04'\n",
    "filterid=2\n",
    "mov_stack=10\n",
    "pair = 'YA.UV05.00:YA.UV12.00'\n",
    "startdate = '2010-01-01'\n",
    "enddate = '2011-01-01'\n",
    "comp='ZZ'\n",
    "step = 10 #gap in days between CCFs to cluster\n",
    "\n",
    "os.chdir(msnoisedir)\n",
    "db = connect()\n",
    "params = get_params(db)\n",
    "\n",
    "#convert string dates to datetime64\n",
    "startdatedt = np.datetime64(startdate)\n",
    "enddatedt = np.datetime64(enddate)\n",
    "\n",
    "#create array of datetimes between start and enddate, spaced by defined step\n",
    "days = np.arange(startdatedt, enddatedt, np.timedelta64(step, 'D'))\n",
    "\n",
    "sta1 = pair.split(\":\")[0]\n",
    "sta2 = pair.split(\":\")[1]\n",
    "\n",
    "st = Stream()\n",
    "\n",
    "for i, day in enumerate(days):\n",
    "\n",
    "    stackpath = \"/STACKS/{:02d}/{:03d}_DAYS/{}/{}_{}/{}.MSEED\".format(filterid,mov_stack,comp,sta1,sta2,day)\n",
    "    \n",
    "    if os.path.isfile(stackpath):\n",
    "        st += read(stackpath)\n",
    "    else:\n",
    "        print(stackpath +' missing')\n",
    "\n",
    "        \n",
    "inputdata = np.array(st)   "
   ]
  },
  {
   "cell_type": "code",
   "execution_count": 21,
   "metadata": {},
   "outputs": [
    {
     "name": "stdout",
     "output_type": "stream",
     "text": [
      "37 Trace(s) in Stream:\n",
      "\n",
      ".YA.UV.00. | 1970-01-01T00:00:00.000000Z - 1970-01-01T00:04:00.000000Z | 25.0 Hz, 6001 samples\n",
      "...\n",
      "(35 other traces)\n",
      "...\n",
      ".YA.UV.00. | 1970-01-01T00:00:00.000000Z - 1970-01-01T00:04:00.000000Z | 25.0 Hz, 6001 samples\n",
      "\n",
      "[Use \"print(Stream.__str__(extended=True))\" to print all Traces]\n"
     ]
    }
   ],
   "source": [
    "print(inputdata)"
   ]
  },
  {
   "cell_type": "code",
   "execution_count": null,
   "metadata": {},
   "outputs": [],
   "source": [
    "linkagemethod='average' #single, complete, average, ward\n",
    "distmethod = 'cc' #euclid, cc, ccstretch\n",
    "\n",
    "minlagwin = 20 #minimum lag\n",
    "maxlagwin = 50 #maximum lag\n",
    "norm=False #normalize CCFs\n",
    "\n"
   ]
  },
  {
   "cell_type": "code",
   "execution_count": 23,
   "metadata": {},
   "outputs": [
    {
     "name": "stdout",
     "output_type": "stream",
     "text": [
      "[[ -2.38828594e-04  -1.85892117e-04  -1.97243688e-04 ...,   2.74039630e-04\n",
      "    3.89318389e-04   5.20709436e-04]\n",
      " [  5.43202856e-04   5.08902536e-04   4.81844210e-04 ...,  -5.73096971e-04\n",
      "   -4.33562178e-04  -2.91774602e-04]\n",
      " [  2.63807800e-04   2.61337758e-04   2.85569695e-04 ...,   3.98877091e-05\n",
      "   -1.48494932e-04  -2.53812439e-04]\n",
      " ..., \n",
      " [  3.04130790e-05  -7.15322949e-06  -5.18762427e-05 ...,   8.28004791e-04\n",
      "    7.08102016e-04   5.75542275e-04]\n",
      " [ -9.44105093e-04  -9.22106032e-04  -8.87923175e-04 ...,   4.74748485e-05\n",
      "   -1.05573235e-04  -2.46223557e-04]\n",
      " [  7.63228338e-04   9.13973374e-04   1.00590254e-03 ...,  -2.02448733e-04\n",
      "    4.35387083e-05   3.15977726e-04]]\n"
     ]
    }
   ],
   "source": []
  },
  {
   "cell_type": "code",
   "execution_count": null,
   "metadata": {},
   "outputs": [],
   "source": []
  }
 ],
 "metadata": {
  "kernelspec": {
   "display_name": "Python 3",
   "language": "python",
   "name": "python3"
  },
  "language_info": {
   "codemirror_mode": {
    "name": "ipython",
    "version": 3
   },
   "file_extension": ".py",
   "mimetype": "text/x-python",
   "name": "python",
   "nbconvert_exporter": "python",
   "pygments_lexer": "ipython3",
   "version": "3.8.10"
  }
 },
 "nbformat": 4,
 "nbformat_minor": 4
}
